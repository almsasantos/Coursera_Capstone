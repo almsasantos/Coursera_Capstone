{
 "cells": [
  {
   "cell_type": "markdown",
   "metadata": {},
   "source": [
    "# Introduction/Business Problem section"
   ]
  },
  {
   "cell_type": "markdown",
   "metadata": {},
   "source": [
    "## Overview"
   ]
  },
  {
   "cell_type": "markdown",
   "metadata": {},
   "source": [
    "The pademy of coronavirus came strong and a consequence of it was the obligatory closing of all restaurants from a bunch of different countries. Since the owners of many restaurants were small businessmen many of them are unable to keep paying their emplooyes and keep their business up. On the other hand, there are some with the hope of opening new restaurants but in places that have a lot more probabilities of being successful once life goes back to normal."
   ]
  },
  {
   "cell_type": "markdown",
   "metadata": {},
   "source": [
    "## Goals"
   ]
  },
  {
   "cell_type": "markdown",
   "metadata": {},
   "source": [
    "This project is based on that last statement and it's goal is to help businessmen and investors find ideal locations for opening different types of restaurant in the center of Madrid, nearby tourist attractions."
   ]
  },
  {
   "cell_type": "markdown",
   "metadata": {},
   "source": [
    "## Data Methodology"
   ]
  },
  {
   "cell_type": "markdown",
   "metadata": {},
   "source": [
    "For that purpose, I'll use the foursquare API and by defining the geolocation of the center of Madrid and functions that will provide DataFrames that after a bit of cleaning and wrangling will give us data to proceed with unsupervised learning, by using the K-means algorithm.\n",
    "\n",
    "Since the center of Madrid has the following coordenates (lat = 40.4165000, lng = -3.7025600) we can define a function to get a dataframe with the nearest venues ('https://api.foursquare.com/v2/venues/explore'). From all those venues categories we want to select only the tourist attractions like Art Museum, Monument/Landmark, Art Gallery, Church, Palace, Opera House. \n",
    "\n",
    "Once we have the dataframe with only those categories the next step is to define a function that will give us the nearest venues that exist nearby all of those tourist attractions we just defined. We should clean the resulting dataframe, since we only want the restaurant categories that exists nearby those attractions.\n",
    "\n",
    "The last step is to use the unsupervised machine learning algorithm called K-means to create a different cluster for each tourist attraction to see which types of restaurant are more common nearby that exactly tourist point to see which types of restaurant were a good oportunity to open nearby that place.\n",
    "\n",
    "This way we could help new investors that want to open new restaurants having a more knowlegde were they should open each type of restaurant and where."
   ]
  }
 ],
 "metadata": {
  "kernelspec": {
   "display_name": "Python [conda env:data_env]",
   "language": "python",
   "name": "conda-env-data_env-py"
  },
  "language_info": {
   "codemirror_mode": {
    "name": "ipython",
    "version": 3
   },
   "file_extension": ".py",
   "mimetype": "text/x-python",
   "name": "python",
   "nbconvert_exporter": "python",
   "pygments_lexer": "ipython3",
   "version": "3.7.5"
  }
 },
 "nbformat": 4,
 "nbformat_minor": 4
}
